{
  "nbformat": 4,
  "nbformat_minor": 0,
  "metadata": {
    "colab": {
      "name": "movie_recommender_system.ipynb",
      "provenance": [],
      "collapsed_sections": [],
      "authorship_tag": "ABX9TyO/oOUfuOeHyts/kMzCXrCI",
      "include_colab_link": true
    },
    "kernelspec": {
      "name": "python3",
      "display_name": "Python 3"
    }
  },
  "cells": [
    {
      "cell_type": "markdown",
      "metadata": {
        "id": "view-in-github",
        "colab_type": "text"
      },
      "source": [
        "<a href=\"https://colab.research.google.com/github/Proahmedjaved/recommendation_systems/blob/master/movie_recommender_system.ipynb\" target=\"_parent\"><img src=\"https://colab.research.google.com/assets/colab-badge.svg\" alt=\"Open In Colab\"/></a>"
      ]
    },
    {
      "cell_type": "code",
      "metadata": {
        "id": "-Oj8AjemAB8w",
        "colab_type": "code",
        "colab": {}
      },
      "source": [
        "# Importing Libraries\n",
        "import pandas as pd\n",
        "import numpy as np\n",
        "from sklearn.metrics.pairwise import cosine_similarity\n",
        "from sklearn.feature_extraction.text import CountVectorizer"
      ],
      "execution_count": 4,
      "outputs": []
    },
    {
      "cell_type": "code",
      "metadata": {
        "id": "0VsafAFDAk9k",
        "colab_type": "code",
        "colab": {
          "resources": {
            "http://localhost:8080/nbextensions/google.colab/files.js": {
              "data": "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",
              "ok": true,
              "headers": [
                [
                  "content-type",
                  "application/javascript"
                ]
              ],
              "status": 200,
              "status_text": ""
            }
          },
          "base_uri": "https://localhost:8080/",
          "height": 72
        },
        "outputId": "4630ede0-3bab-48ac-95e8-ff5b7d053446"
      },
      "source": [
        "from google.colab import files\n",
        "data = files.upload()"
      ],
      "execution_count": 5,
      "outputs": [
        {
          "output_type": "display_data",
          "data": {
            "text/html": [
              "\n",
              "     <input type=\"file\" id=\"files-a72d171c-7d2f-4077-b627-af400d751a97\" name=\"files[]\" multiple disabled\n",
              "        style=\"border:none\" />\n",
              "     <output id=\"result-a72d171c-7d2f-4077-b627-af400d751a97\">\n",
              "      Upload widget is only available when the cell has been executed in the\n",
              "      current browser session. Please rerun this cell to enable.\n",
              "      </output>\n",
              "      <script src=\"/nbextensions/google.colab/files.js\"></script> "
            ],
            "text/plain": [
              "<IPython.core.display.HTML object>"
            ]
          },
          "metadata": {
            "tags": []
          }
        },
        {
          "output_type": "stream",
          "text": [
            "Saving imdb_1972-2019.csv to imdb_1972-2019.csv\n"
          ],
          "name": "stdout"
        }
      ]
    },
    {
      "cell_type": "code",
      "metadata": {
        "id": "rFnvur6lBJM3",
        "colab_type": "code",
        "colab": {}
      },
      "source": [
        "df = pd.read_csv('imdb_1972-2019.csv')\n",
        "df.index.name = 'movie_id'"
      ],
      "execution_count": 61,
      "outputs": []
    },
    {
      "cell_type": "code",
      "metadata": {
        "id": "z31dLVmFCSmX",
        "colab_type": "code",
        "colab": {
          "base_uri": "https://localhost:8080/",
          "height": 577
        },
        "outputId": "771a1051-b9d6-42e2-a20b-c5a1f16d9fad"
      },
      "source": [
        "df.head(10)"
      ],
      "execution_count": 107,
      "outputs": [
        {
          "output_type": "execute_result",
          "data": {
            "text/html": [
              "<div>\n",
              "<style scoped>\n",
              "    .dataframe tbody tr th:only-of-type {\n",
              "        vertical-align: middle;\n",
              "    }\n",
              "\n",
              "    .dataframe tbody tr th {\n",
              "        vertical-align: top;\n",
              "    }\n",
              "\n",
              "    .dataframe thead th {\n",
              "        text-align: right;\n",
              "    }\n",
              "</style>\n",
              "<table border=\"1\" class=\"dataframe\">\n",
              "  <thead>\n",
              "    <tr style=\"text-align: right;\">\n",
              "      <th></th>\n",
              "      <th>Unnamed: 0</th>\n",
              "      <th>Title</th>\n",
              "      <th>Year</th>\n",
              "      <th>Rating</th>\n",
              "      <th>Metascore</th>\n",
              "      <th>Votes</th>\n",
              "      <th>Description</th>\n",
              "      <th>Genre</th>\n",
              "      <th>Runtime (Minutes)</th>\n",
              "      <th>Revenue (Millions)</th>\n",
              "      <th>Actors</th>\n",
              "      <th>Director</th>\n",
              "      <th>combined_features</th>\n",
              "    </tr>\n",
              "    <tr>\n",
              "      <th>movie_id</th>\n",
              "      <th></th>\n",
              "      <th></th>\n",
              "      <th></th>\n",
              "      <th></th>\n",
              "      <th></th>\n",
              "      <th></th>\n",
              "      <th></th>\n",
              "      <th></th>\n",
              "      <th></th>\n",
              "      <th></th>\n",
              "      <th></th>\n",
              "      <th></th>\n",
              "      <th></th>\n",
              "    </tr>\n",
              "  </thead>\n",
              "  <tbody>\n",
              "    <tr>\n",
              "      <th>0</th>\n",
              "      <td>0</td>\n",
              "      <td>Avengers: Endgame</td>\n",
              "      <td>2019</td>\n",
              "      <td>8.5</td>\n",
              "      <td>78.0</td>\n",
              "      <td>648248</td>\n",
              "      <td>After the devastating events of Avengers: ...</td>\n",
              "      <td>Action, Adventure, Drama</td>\n",
              "      <td>181</td>\n",
              "      <td>858.37</td>\n",
              "      <td>Robert Downey Jr., Chris Evans, Mark Ruffalo, ...</td>\n",
              "      <td>Anthony Russo, Joe Russo</td>\n",
              "      <td>Robert Downey Jr., Chris Evans, Mark Ruffalo, ...</td>\n",
              "    </tr>\n",
              "    <tr>\n",
              "      <th>1</th>\n",
              "      <td>1</td>\n",
              "      <td>Spider-Man: Far from Home</td>\n",
              "      <td>2019</td>\n",
              "      <td>7.6</td>\n",
              "      <td>69.0</td>\n",
              "      <td>255849</td>\n",
              "      <td>Following the events of Avengers: Endgame ...</td>\n",
              "      <td>Action, Adventure, Sci-Fi</td>\n",
              "      <td>129</td>\n",
              "      <td>388.53</td>\n",
              "      <td>Tom Holland, Samuel L. Jackson, Jake Gyllenhaa...</td>\n",
              "      <td>Jon Watts</td>\n",
              "      <td>Tom Holland, Samuel L. Jackson, Jake Gyllenhaa...</td>\n",
              "    </tr>\n",
              "    <tr>\n",
              "      <th>2</th>\n",
              "      <td>2</td>\n",
              "      <td>Toy Story 4</td>\n",
              "      <td>2019</td>\n",
              "      <td>7.9</td>\n",
              "      <td>84.0</td>\n",
              "      <td>146740</td>\n",
              "      <td>When a new toy called \"Forky\" joins Woody ...</td>\n",
              "      <td>Animation, Adventure, Comedy</td>\n",
              "      <td>100</td>\n",
              "      <td>433.03</td>\n",
              "      <td>Tom Hanks, Tim Allen, Annie Potts, Tony Hale</td>\n",
              "      <td>Josh Cooley</td>\n",
              "      <td>Tom Hanks, Tim Allen, Annie Potts, Tony Hale  ...</td>\n",
              "    </tr>\n",
              "    <tr>\n",
              "      <th>3</th>\n",
              "      <td>3</td>\n",
              "      <td>Jumanji: The Next Level</td>\n",
              "      <td>2019</td>\n",
              "      <td>7.0</td>\n",
              "      <td>58.0</td>\n",
              "      <td>63856</td>\n",
              "      <td>In Jumanji: The Next Level, the gang is ba...</td>\n",
              "      <td>Action, Adventure, Comedy</td>\n",
              "      <td>123</td>\n",
              "      <td>0.00</td>\n",
              "      <td>Dwayne Johnson, Jack Black, Kevin Hart, Karen ...</td>\n",
              "      <td>Jake Kasdan</td>\n",
              "      <td>Dwayne Johnson, Jack Black, Kevin Hart, Karen ...</td>\n",
              "    </tr>\n",
              "    <tr>\n",
              "      <th>4</th>\n",
              "      <td>4</td>\n",
              "      <td>The Lighthouse</td>\n",
              "      <td>2019</td>\n",
              "      <td>7.8</td>\n",
              "      <td>83.0</td>\n",
              "      <td>50595</td>\n",
              "      <td>Two lighthouse keepers try to maintain the...</td>\n",
              "      <td>Drama, Fantasy, Horror</td>\n",
              "      <td>109</td>\n",
              "      <td>0.43</td>\n",
              "      <td>Robert Pattinson, Willem Dafoe, Valeriia Karaman</td>\n",
              "      <td>Robert Eggers</td>\n",
              "      <td>Robert Pattinson, Willem Dafoe, Valeriia Karam...</td>\n",
              "    </tr>\n",
              "    <tr>\n",
              "      <th>5</th>\n",
              "      <td>5</td>\n",
              "      <td>El Camino: A Breaking Bad Movie</td>\n",
              "      <td>2019</td>\n",
              "      <td>7.4</td>\n",
              "      <td>72.0</td>\n",
              "      <td>145770</td>\n",
              "      <td>El Camino: A Breaking Bad Movie follows fu...</td>\n",
              "      <td>Action, Drama</td>\n",
              "      <td>122</td>\n",
              "      <td>0.00</td>\n",
              "      <td>Aaron Paul, Jonathan Banks, Matt Jones, Charle...</td>\n",
              "      <td>Vince Gilligan</td>\n",
              "      <td>Aaron Paul, Jonathan Banks, Matt Jones, Charle...</td>\n",
              "    </tr>\n",
              "    <tr>\n",
              "      <th>6</th>\n",
              "      <td>6</td>\n",
              "      <td>John Wick: Chapter 3 - Parabellum</td>\n",
              "      <td>2019</td>\n",
              "      <td>7.5</td>\n",
              "      <td>73.0</td>\n",
              "      <td>213393</td>\n",
              "      <td>John Wick is on the run after killing a me...</td>\n",
              "      <td>Action, Crime, Thriller</td>\n",
              "      <td>131</td>\n",
              "      <td>171.02</td>\n",
              "      <td>Keanu Reeves, Halle Berry, Ian McShane, Lauren...</td>\n",
              "      <td>Chad Stahelski</td>\n",
              "      <td>Keanu Reeves, Halle Berry, Ian McShane, Lauren...</td>\n",
              "    </tr>\n",
              "    <tr>\n",
              "      <th>7</th>\n",
              "      <td>7</td>\n",
              "      <td>Captain Marvel</td>\n",
              "      <td>2019</td>\n",
              "      <td>6.9</td>\n",
              "      <td>64.0</td>\n",
              "      <td>389596</td>\n",
              "      <td>Carol Danvers becomes one of the universe'...</td>\n",
              "      <td>Action, Adventure, Sci-Fi</td>\n",
              "      <td>123</td>\n",
              "      <td>426.83</td>\n",
              "      <td>Brie Larson, Samuel L. Jackson, Ben Mendelsohn...</td>\n",
              "      <td>Anna Boden, Ryan Fleck</td>\n",
              "      <td>Brie Larson, Samuel L. Jackson, Ben Mendelsohn...</td>\n",
              "    </tr>\n",
              "    <tr>\n",
              "      <th>8</th>\n",
              "      <td>8</td>\n",
              "      <td>Aladdin</td>\n",
              "      <td>2019</td>\n",
              "      <td>7.0</td>\n",
              "      <td>53.0</td>\n",
              "      <td>173420</td>\n",
              "      <td>A kind-hearted street urchin and a power-h...</td>\n",
              "      <td>Adventure, Family, Fantasy</td>\n",
              "      <td>128</td>\n",
              "      <td>354.87</td>\n",
              "      <td>Will Smith, Mena Massoud, Naomi Scott, Marwan ...</td>\n",
              "      <td>Guy Ritchie</td>\n",
              "      <td>Will Smith, Mena Massoud, Naomi Scott, Marwan ...</td>\n",
              "    </tr>\n",
              "    <tr>\n",
              "      <th>9</th>\n",
              "      <td>9</td>\n",
              "      <td>It Chapter Two</td>\n",
              "      <td>2019</td>\n",
              "      <td>6.7</td>\n",
              "      <td>58.0</td>\n",
              "      <td>149237</td>\n",
              "      <td>Twenty-seven years after their first encou...</td>\n",
              "      <td>Drama, Fantasy, Horror</td>\n",
              "      <td>169</td>\n",
              "      <td>193.77</td>\n",
              "      <td>Jessica Chastain, James McAvoy, Bill Hader, Is...</td>\n",
              "      <td>Andy Muschietti</td>\n",
              "      <td>Jessica Chastain, James McAvoy, Bill Hader, Is...</td>\n",
              "    </tr>\n",
              "  </tbody>\n",
              "</table>\n",
              "</div>"
            ],
            "text/plain": [
              "          Unnamed: 0  ...                                  combined_features\n",
              "movie_id              ...                                                   \n",
              "0                  0  ...  Robert Downey Jr., Chris Evans, Mark Ruffalo, ...\n",
              "1                  1  ...  Tom Holland, Samuel L. Jackson, Jake Gyllenhaa...\n",
              "2                  2  ...  Tom Hanks, Tim Allen, Annie Potts, Tony Hale  ...\n",
              "3                  3  ...  Dwayne Johnson, Jack Black, Kevin Hart, Karen ...\n",
              "4                  4  ...  Robert Pattinson, Willem Dafoe, Valeriia Karam...\n",
              "5                  5  ...  Aaron Paul, Jonathan Banks, Matt Jones, Charle...\n",
              "6                  6  ...  Keanu Reeves, Halle Berry, Ian McShane, Lauren...\n",
              "7                  7  ...  Brie Larson, Samuel L. Jackson, Ben Mendelsohn...\n",
              "8                  8  ...  Will Smith, Mena Massoud, Naomi Scott, Marwan ...\n",
              "9                  9  ...  Jessica Chastain, James McAvoy, Bill Hader, Is...\n",
              "\n",
              "[10 rows x 13 columns]"
            ]
          },
          "metadata": {
            "tags": []
          },
          "execution_count": 107
        }
      ]
    },
    {
      "cell_type": "code",
      "metadata": {
        "id": "LtAF_6ZaCUBQ",
        "colab_type": "code",
        "colab": {}
      },
      "source": [
        "columns = [\"Title\",\"Description\",\"Genre\",\"Director\"]"
      ],
      "execution_count": 43,
      "outputs": []
    },
    {
      "cell_type": "code",
      "metadata": {
        "id": "xLIigY_QETXj",
        "colab_type": "code",
        "colab": {
          "base_uri": "https://localhost:8080/",
          "height": 173
        },
        "outputId": "fba064cd-551b-47b3-a933-c8aa85f5cd75"
      },
      "source": [
        "df[columns].head(3)"
      ],
      "execution_count": 64,
      "outputs": [
        {
          "output_type": "execute_result",
          "data": {
            "text/html": [
              "<div>\n",
              "<style scoped>\n",
              "    .dataframe tbody tr th:only-of-type {\n",
              "        vertical-align: middle;\n",
              "    }\n",
              "\n",
              "    .dataframe tbody tr th {\n",
              "        vertical-align: top;\n",
              "    }\n",
              "\n",
              "    .dataframe thead th {\n",
              "        text-align: right;\n",
              "    }\n",
              "</style>\n",
              "<table border=\"1\" class=\"dataframe\">\n",
              "  <thead>\n",
              "    <tr style=\"text-align: right;\">\n",
              "      <th></th>\n",
              "      <th>Title</th>\n",
              "      <th>Description</th>\n",
              "      <th>Genre</th>\n",
              "      <th>Director</th>\n",
              "    </tr>\n",
              "    <tr>\n",
              "      <th>movie_id</th>\n",
              "      <th></th>\n",
              "      <th></th>\n",
              "      <th></th>\n",
              "      <th></th>\n",
              "    </tr>\n",
              "  </thead>\n",
              "  <tbody>\n",
              "    <tr>\n",
              "      <th>0</th>\n",
              "      <td>Avengers: Endgame</td>\n",
              "      <td>After the devastating events of Avengers: ...</td>\n",
              "      <td>Action, Adventure, Drama</td>\n",
              "      <td>Anthony Russo, Joe Russo</td>\n",
              "    </tr>\n",
              "    <tr>\n",
              "      <th>1</th>\n",
              "      <td>Spider-Man: Far from Home</td>\n",
              "      <td>Following the events of Avengers: Endgame ...</td>\n",
              "      <td>Action, Adventure, Sci-Fi</td>\n",
              "      <td>Jon Watts</td>\n",
              "    </tr>\n",
              "    <tr>\n",
              "      <th>2</th>\n",
              "      <td>Toy Story 4</td>\n",
              "      <td>When a new toy called \"Forky\" joins Woody ...</td>\n",
              "      <td>Animation, Adventure, Comedy</td>\n",
              "      <td>Josh Cooley</td>\n",
              "    </tr>\n",
              "  </tbody>\n",
              "</table>\n",
              "</div>"
            ],
            "text/plain": [
              "                              Title  ...                       Director\n",
              "movie_id                             ...                               \n",
              "0                 Avengers: Endgame  ...  Anthony Russo, Joe Russo     \n",
              "1         Spider-Man: Far from Home  ...                 Jon Watts     \n",
              "2                       Toy Story 4  ...               Josh Cooley     \n",
              "\n",
              "[3 rows x 4 columns]"
            ]
          },
          "metadata": {
            "tags": []
          },
          "execution_count": 64
        }
      ]
    },
    {
      "cell_type": "code",
      "metadata": {
        "id": "-w54pjN3Ibyf",
        "colab_type": "code",
        "colab": {}
      },
      "source": [
        "def get_impt_features(data):\n",
        "  combined_strings = []\n",
        "  for i in range(0, data.shape[0]):\n",
        "    combined_strings.append(data['Actors'][i] + ' ' + data['Genre'][i] + ' ' + data['Director'][i])\n",
        "  return combined_strings"
      ],
      "execution_count": 122,
      "outputs": []
    },
    {
      "cell_type": "code",
      "metadata": {
        "id": "mWmPYAjyJZIc",
        "colab_type": "code",
        "colab": {}
      },
      "source": [
        "df['combined_features'] = get_impt_features(df)"
      ],
      "execution_count": 123,
      "outputs": []
    },
    {
      "cell_type": "code",
      "metadata": {
        "id": "ONSAMBXDJsTQ",
        "colab_type": "code",
        "colab": {}
      },
      "source": [
        "cm = CountVectorizer().fit_transform(df['combined_features'])"
      ],
      "execution_count": 124,
      "outputs": []
    },
    {
      "cell_type": "code",
      "metadata": {
        "id": "_mF9RoIVKSpQ",
        "colab_type": "code",
        "colab": {}
      },
      "source": [
        "cs = cosine_similarity(cm)"
      ],
      "execution_count": 125,
      "outputs": []
    },
    {
      "cell_type": "code",
      "metadata": {
        "id": "uFDQLmsmKoVi",
        "colab_type": "code",
        "colab": {}
      },
      "source": [
        "test_title = 'Toy Story'"
      ],
      "execution_count": 134,
      "outputs": []
    },
    {
      "cell_type": "code",
      "metadata": {
        "id": "q9HjxjlwMAll",
        "colab_type": "code",
        "colab": {}
      },
      "source": [
        "movie_id = df[df.Title == test_title].index.values[0]"
      ],
      "execution_count": 135,
      "outputs": []
    },
    {
      "cell_type": "code",
      "metadata": {
        "id": "FwguBm7mMwgw",
        "colab_type": "code",
        "colab": {}
      },
      "source": [
        "scores = list(enumerate(cs[movie_id]))"
      ],
      "execution_count": 136,
      "outputs": []
    },
    {
      "cell_type": "code",
      "metadata": {
        "id": "3hAtpA0fM2wY",
        "colab_type": "code",
        "colab": {}
      },
      "source": [
        "sorted_scores = sorted(scores, key = lambda x:x[1], reverse=True)"
      ],
      "execution_count": 137,
      "outputs": []
    },
    {
      "cell_type": "code",
      "metadata": {
        "id": "xKGbJxEFNGCh",
        "colab_type": "code",
        "colab": {
          "base_uri": "https://localhost:8080/",
          "height": 136
        },
        "outputId": "e8694eb7-5c98-4594-e929-9a01f3add679"
      },
      "source": [
        "sorted_scores[:7]"
      ],
      "execution_count": 138,
      "outputs": [
        {
          "output_type": "execute_result",
          "data": {
            "text/plain": [
              "[(4334, 0.9999999999999998),\n",
              " (3808, 0.6054055145966812),\n",
              " (2, 0.5384615384615385),\n",
              " (1462, 0.5384615384615385),\n",
              " (5169, 0.4803844614152615),\n",
              " (1259, 0.4296689244236597),\n",
              " (5657, 0.40360367639778744)]"
            ]
          },
          "metadata": {
            "tags": []
          },
          "execution_count": 138
        }
      ]
    },
    {
      "cell_type": "code",
      "metadata": {
        "id": "XFdiTgqQNHXX",
        "colab_type": "code",
        "colab": {
          "base_uri": "https://localhost:8080/",
          "height": 145
        },
        "outputId": "970a7d94-37f9-4384-dd99-ccc807db1e8d"
      },
      "source": [
        "df[df.index == sorted_scores[3][0]]"
      ],
      "execution_count": 140,
      "outputs": [
        {
          "output_type": "execute_result",
          "data": {
            "text/html": [
              "<div>\n",
              "<style scoped>\n",
              "    .dataframe tbody tr th:only-of-type {\n",
              "        vertical-align: middle;\n",
              "    }\n",
              "\n",
              "    .dataframe tbody tr th {\n",
              "        vertical-align: top;\n",
              "    }\n",
              "\n",
              "    .dataframe thead th {\n",
              "        text-align: right;\n",
              "    }\n",
              "</style>\n",
              "<table border=\"1\" class=\"dataframe\">\n",
              "  <thead>\n",
              "    <tr style=\"text-align: right;\">\n",
              "      <th></th>\n",
              "      <th>Unnamed: 0</th>\n",
              "      <th>Title</th>\n",
              "      <th>Year</th>\n",
              "      <th>Rating</th>\n",
              "      <th>Metascore</th>\n",
              "      <th>Votes</th>\n",
              "      <th>Description</th>\n",
              "      <th>Genre</th>\n",
              "      <th>Runtime (Minutes)</th>\n",
              "      <th>Revenue (Millions)</th>\n",
              "      <th>Actors</th>\n",
              "      <th>Director</th>\n",
              "      <th>combined_features</th>\n",
              "    </tr>\n",
              "    <tr>\n",
              "      <th>movie_id</th>\n",
              "      <th></th>\n",
              "      <th></th>\n",
              "      <th></th>\n",
              "      <th></th>\n",
              "      <th></th>\n",
              "      <th></th>\n",
              "      <th></th>\n",
              "      <th></th>\n",
              "      <th></th>\n",
              "      <th></th>\n",
              "      <th></th>\n",
              "      <th></th>\n",
              "      <th></th>\n",
              "    </tr>\n",
              "  </thead>\n",
              "  <tbody>\n",
              "    <tr>\n",
              "      <th>1462</th>\n",
              "      <td>913</td>\n",
              "      <td>Toy Story 3</td>\n",
              "      <td>2010</td>\n",
              "      <td>8.3</td>\n",
              "      <td>92.0</td>\n",
              "      <td>714751</td>\n",
              "      <td>The toys are mistakenly delivered to a day...</td>\n",
              "      <td>Animation, Adventure, Comedy</td>\n",
              "      <td>103</td>\n",
              "      <td>415.0</td>\n",
              "      <td>Tom Hanks, Tim Allen, Joan Cusack, Ned Beatty</td>\n",
              "      <td>Lee Unkrich</td>\n",
              "      <td>Tom Hanks, Tim Allen, Joan Cusack, Ned Beatty ...</td>\n",
              "    </tr>\n",
              "  </tbody>\n",
              "</table>\n",
              "</div>"
            ],
            "text/plain": [
              "          Unnamed: 0  ...                                  combined_features\n",
              "movie_id              ...                                                   \n",
              "1462             913  ...  Tom Hanks, Tim Allen, Joan Cusack, Ned Beatty ...\n",
              "\n",
              "[1 rows x 13 columns]"
            ]
          },
          "metadata": {
            "tags": []
          },
          "execution_count": 140
        }
      ]
    },
    {
      "cell_type": "code",
      "metadata": {
        "id": "9dIQIGnYN5AC",
        "colab_type": "code",
        "colab": {}
      },
      "source": [
        ""
      ],
      "execution_count": 117,
      "outputs": []
    }
  ]
}